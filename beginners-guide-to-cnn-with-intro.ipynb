{
 "cells": [
  {
   "cell_type": "markdown",
   "metadata": {
    "_cell_guid": "b1076dfc-b9ad-4769-8c92-a6c4dae69d19",
    "_uuid": "8f2839f25d086af736a60e9eeb907d3b93b6e0e5"
   },
   "source": [
    "**CNN**\n",
    "\n",
    "In neural networks, Convolutional neural network (ConvNets or CNNs) is one of the main categories to do images recognition, images classifications. Objects detections, recognition faces etc., are some of the areas where CNNs are widely used.where we will use a Sequential Convolutional Neural Network for digits recognition trained on MNIST dataset. we choosed to build it with keras API which is very powerfull"
   ]
  },
  {
   "cell_type": "markdown",
   "metadata": {
    "_cell_guid": "79c7e3d0-c299-4dcb-8224-4455121ee9b0",
    "_uuid": "d629ff2d2480ee46fbb7e2d37f6b5fab8052498a",
    "collapsed": true
   },
   "source": [
    " Firstly, we will concentrate on the data then we will focus on the CNN modeling and evaluation.we have 3 main task they are data prepation and cnn modeling and The results prediction and submission"
   ]
  },
  {
   "cell_type": "code",
   "execution_count": 1,
   "metadata": {},
   "outputs": [
    {
     "name": "stderr",
     "output_type": "stream",
     "text": [
      "Using TensorFlow backend.\n"
     ]
    }
   ],
   "source": [
    "import pandas as pd\n",
    "import numpy as np\n",
    "import matplotlib.pyplot as plt\n",
    "import matplotlib.image as mpimg\n",
    "import seaborn as sns\n",
    "%matplotlib inline\n",
    "import tensorflow.keras as keras\n",
    "from keras.utils.np_utils import to_categorical # convert to one-hot-encoding\n",
    "from keras.models import Sequential\n",
    "from keras.layers import Dense, Dropout, Flatten, Conv2D, MaxPool2D\n",
    "from keras.optimizers import RMSprop\n",
    "from keras.preprocessing.image import ImageDataGenerator\n",
    "from keras.callbacks import ReduceLROnPlateau\n",
    "np.random.seed(2)"
   ]
  },
  {
   "cell_type": "code",
   "execution_count": 2,
   "metadata": {},
   "outputs": [],
   "source": [
    "train = pd.read_csv(\"../input/digit-recognizer/train.csv\")\n",
    "test = pd.read_csv(\"../input/digit-recognizer/test.csv\")"
   ]
  },
  {
   "cell_type": "code",
   "execution_count": 3,
   "metadata": {},
   "outputs": [
    {
     "data": {
      "text/plain": [
       "(42000, 784)"
      ]
     },
     "execution_count": 3,
     "metadata": {},
     "output_type": "execute_result"
    }
   ],
   "source": [
    "#now as label is the target we will saparate for training \n",
    "Y_train = train[\"label\"]\n",
    "X_train = train.drop(labels = [\"label\"],axis = 1) \n",
    "X_train.shape"
   ]
  },
  {
   "cell_type": "markdown",
   "metadata": {},
   "source": [
    "missing data handling is one another big task so lets see if any missing values "
   ]
  },
  {
   "cell_type": "code",
   "execution_count": 4,
   "metadata": {},
   "outputs": [
    {
     "data": {
      "text/plain": [
       "0"
      ]
     },
     "execution_count": 4,
     "metadata": {},
     "output_type": "execute_result"
    }
   ],
   "source": [
    "X_train.isnull().sum()\n",
    "Y_train.isnull().sum()"
   ]
  },
  {
   "cell_type": "markdown",
   "metadata": {},
   "source": [
    "so there is no missing values in the data we have so next is to we will see there count and normalize them"
   ]
  },
  {
   "cell_type": "code",
   "execution_count": 5,
   "metadata": {},
   "outputs": [
    {
     "data": {
      "text/plain": [
       "<matplotlib.axes._subplots.AxesSubplot at 0x7ffad37dc470>"
      ]
     },
     "execution_count": 5,
     "metadata": {},
     "output_type": "execute_result"
    },
    {
     "data": {
      "image/png": "[encoded data removed]",
      "text/plain": [
       "<Figure size 432x288 with 1 Axes>"
      ]
     },
     "metadata": {
      "needs_background": "light"
     },
     "output_type": "display_data"
    }
   ],
   "source": [
    "sns.countplot(Y_train)"
   ]
  },
  {
   "cell_type": "markdown",
   "metadata": {},
   "source": [
    "again we have similar counts for the 10 digits so now lets start playing with our data "
   ]
  },
  {
   "cell_type": "markdown",
   "metadata": {},
   "source": [
    "Before modifying our data lets see how CNN works..!\n",
    "\n",
    "CNN image classifications takes an input image, process it and classify it under certain categories (Eg., Dog, Cat, Tiger, Lion). Computers sees an input image as array of pixels and it depends on the image resolution. Based on the image resolution, it will see h x w x d( h = Height, w = Width, d = Dimension ). Eg., An image of 6 x 6 x 3 array of matrix of RGB (3 refers to RGB values) and an image of 4 x 4 x 1 array of matrix of grayscale image.\n",
    "\n",
    "Technically, deep learning CNN models to train and test, each input image will pass it through a series of convolution layers with filters (Kernals), Pooling, fully connected layers (FC) and apply Softmax function to classify an object with probabilistic values between 0 and 1. The below figure is a complete flow of CNN to process an input image and classifies the objects based on values."
   ]
  },
  {
   "cell_type": "markdown",
   "metadata": {},
   "source": [
    "so now lets normalization our data . We perform a grayscale normalization to reduce the effect of illumination's differences.\n",
    "\n",
    "Moreover the CNN converg faster on [0..1] data than on [0..255]."
   ]
  },
  {
   "cell_type": "code",
   "execution_count": 6,
   "metadata": {},
   "outputs": [],
   "source": [
    "# Normalize the data\n",
    "X_train = X_train / 255.0\n",
    "test = test / 255.0"
   ]
  },
  {
   "cell_type": "code",
   "execution_count": 7,
   "metadata": {},
   "outputs": [],
   "source": [
    "X_train = X_train.values.reshape(-1,28,28,1)\n",
    "test = test.values.reshape(-1,28,28,1)"
   ]
  },
  {
   "cell_type": "markdown",
   "metadata": {},
   "source": [
    " so now we Reshape image in 3 dimensions (height = 28px, width = 28px , canal = 1). now lets see how it looks"
   ]
  },
  {
   "cell_type": "code",
   "execution_count": 8,
   "metadata": {},
   "outputs": [
    {
     "data": {
      "image/png": "[encoded data removed]",
      "text/plain": [
       "<Figure size 720x720 with 9 Axes>"
      ]
     },
     "metadata": {
      "needs_background": "light"
     },
     "output_type": "display_data"
    }
   ],
   "source": [
    "plt.figure( figsize = (10,10))\n",
    "for i in range(1,10):\n",
    "    plt.subplot(3,4,i)\n",
    "    plt.imshow(X_train[i+1].reshape([28,28]),cmap=\"gray\")\n"
   ]
  },
  {
   "cell_type": "markdown",
   "metadata": {},
   "source": [
    "Wow ... it look good ok now lets  Encode labels to one hot vectors (ex : 2 -> [0,0,1,0,0,0,0,0,0,0])"
   ]
  },
  {
   "cell_type": "code",
   "execution_count": 9,
   "metadata": {},
   "outputs": [],
   "source": [
    "Y_train = to_categorical(Y_train, num_classes = 10)"
   ]
  },
  {
   "cell_type": "markdown",
   "metadata": {},
   "source": [
    "ok now lets Split training and valdiation set "
   ]
  },
  {
   "cell_type": "code",
   "execution_count": 10,
   "metadata": {},
   "outputs": [],
   "source": [
    "from sklearn.model_selection import train_test_split\n",
    "X_train, X_val, Y_train, Y_val = train_test_split(X_train, Y_train, test_size = 0.1, random_state=2)"
   ]
  },
  {
   "cell_type": "markdown",
   "metadata": {},
   "source": [
    "we now split the train set in two parts a small fraction (10%) became the validation set which the model is evaluated and the rest (90%) is used to train the model."
   ]
  },
  {
   "attachments": {
    "image.png": {
     "image/png": "[encoded data removed]"
    }
   },
   "cell_type": "markdown",
   "metadata": {},
   "source": [
    "**Build CNN **\n",
    "\n",
    "now we try to build Sequential Convolutional Neural Network \n",
    "\n",
    "the first convolutional (Conv2D) layer ,this layer creates a convolution kernel that is wind with layers input which helps produce a tensor of outputs.genneraly It is like a set of learnable filters . CNN cab able to do feature maps i.e The CNN can isolate features that are useful everywhere from these transformed images.\n",
    "here in side CNN there are some works going on like Convolution,Strided Convolution,padding,pooling \n",
    "convolution It is a process where we take a small matrix of numbers (called kernel or filter), we pass it over our image and transform it based on the values from filter.and calculate by following formula \n",
    "\n",
    "![image.png](attachment:image.png)\n",
    "\n",
    "The second important layer in CNN is the pooling (MaxPool2D) layer. Max pooling is a sample-based discretization process. The objective is to down-sample an input representation by reducing its dimensionality\n",
    "\n",
    "Dropout is a regularization method,i.e to reduce overfitting and improve generalization error in deep neural networks of all kinds.\n",
    "\n",
    "'relu' is the rectifier (activation function max(0,x). The rectifier activation function is used to add non linearity to the network.\n",
    "\n",
    "The Flatten layer is use to convert the final feature maps into a one single 1D vector. It combines all the found local features of the previous convolutional layers.\n"
   ]
  },
  {
   "cell_type": "code",
   "execution_count": 11,
   "metadata": {},
   "outputs": [],
   "source": [
    "model = keras.models.Sequential([\n",
    "    keras.layers.Conv2D(128, (3,3), input_shape=(28,28,1), activation='relu'),\n",
    "    keras.layers.MaxPooling2D(2,2),\n",
    "    keras.layers.BatchNormalization(),\n",
    "    keras.layers.Conv2D(256, (3,3), activation='relu'),\n",
    "    keras.layers.MaxPooling2D(2,2),\n",
    "    keras.layers.BatchNormalization(),\n",
    "    keras.layers.Conv2D(512, (3,3), activation='relu'),\n",
    "    keras.layers.MaxPooling2D(2,2),\n",
    "    keras.layers.BatchNormalization(),\n",
    "    keras.layers.Flatten(),\n",
    "    keras.layers.Dense(128),\n",
    "    keras.layers.BatchNormalization(),\n",
    "    keras.layers.Activation('relu'), \n",
    "    keras.layers.Dropout(0.1),\n",
    "    keras.layers.Dense(64),\n",
    "    keras.layers.BatchNormalization(),\n",
    "    keras.layers.Activation('relu'),\n",
    "    keras.layers.Dense(10, activation='softmax')\n",
    "])"
   ]
  },
  {
   "cell_type": "markdown",
   "metadata": {},
   "source": [
    "once our layers are added to the model, we need to set up  \n",
    "a loss function and an optimisation algorithm.\n",
    "\n",
    "The most important function is the optimizer. This function will iteratively improve parameters (filters kernel values, weights and bias of neurons in order to minimise the loss.\n",
    "\n",
    "here we will use adam . The adam update adjusts the Adagrad method in a very simple way "
   ]
  },
  {
   "cell_type": "code",
   "execution_count": 12,
   "metadata": {},
   "outputs": [
    {
     "name": "stdout",
     "output_type": "stream",
     "text": [
      "Model: \"sequential\"\n",
      "_________________________________________________________________\n",
      "Layer (type)                 Output Shape              Param #   \n",
      "=================================================================\n",
      "conv2d (Conv2D)              (None, 26, 26, 128)       1280      \n",
      "_________________________________________________________________\n",
      "max_pooling2d (MaxPooling2D) (None, 13, 13, 128)       0         \n",
      "_________________________________________________________________\n",
      "batch_normalization (BatchNo (None, 13, 13, 128)       512       \n",
      "_________________________________________________________________\n",
      "conv2d_1 (Conv2D)            (None, 11, 11, 256)       295168    \n",
      "_________________________________________________________________\n",
      "max_pooling2d_1 (MaxPooling2 (None, 5, 5, 256)         0         \n",
      "_________________________________________________________________\n",
      "batch_normalization_1 (Batch (None, 5, 5, 256)         1024      \n",
      "_________________________________________________________________\n",
      "conv2d_2 (Conv2D)            (None, 3, 3, 512)         1180160   \n",
      "_________________________________________________________________\n",
      "max_pooling2d_2 (MaxPooling2 (None, 1, 1, 512)         0         \n",
      "_________________________________________________________________\n",
      "batch_normalization_2 (Batch (None, 1, 1, 512)         2048      \n",
      "_________________________________________________________________\n",
      "flatten (Flatten)            (None, 512)               0         \n",
      "_________________________________________________________________\n",
      "dense (Dense)                (None, 128)               65664     \n",
      "_________________________________________________________________\n",
      "batch_normalization_3 (Batch (None, 128)               512       \n",
      "_________________________________________________________________\n",
      "activation (Activation)      (None, 128)               0         \n",
      "_________________________________________________________________\n",
      "dropout (Dropout)            (None, 128)               0         \n",
      "_________________________________________________________________\n",
      "dense_1 (Dense)              (None, 64)                8256      \n",
      "_________________________________________________________________\n",
      "batch_normalization_4 (Batch (None, 64)                256       \n",
      "_________________________________________________________________\n",
      "activation_1 (Activation)    (None, 64)                0         \n",
      "_________________________________________________________________\n",
      "dense_2 (Dense)              (None, 10)                650       \n",
      "=================================================================\n",
      "Total params: 1,555,530\n",
      "Trainable params: 1,553,354\n",
      "Non-trainable params: 2,176\n",
      "_________________________________________________________________\n"
     ]
    }
   ],
   "source": [
    "model.compile(optimizer = 'adam',loss = \"categorical_crossentropy\", metrics=[\"accuracy\"])\n",
    "model.summary()"
   ]
  },
  {
   "cell_type": "code",
   "execution_count": 13,
   "metadata": {},
   "outputs": [],
   "source": [
    "X_train ,X_test_test,Y_train,Y_test= train_test_split(X_train,Y_train,test_size=0.2)"
   ]
  },
  {
   "cell_type": "code",
   "execution_count": 14,
   "metadata": {},
   "outputs": [
    {
     "name": "stdout",
     "output_type": "stream",
     "text": [
      "Train on 30240 samples, validate on 7560 samples\n",
      "Epoch 1/20\n",
      "30240/30240 [==============================] - 10s 339us/sample - loss: 0.1814 - acc: 0.9516 - val_loss: 0.0786 - val_acc: 0.9757\n",
      "Epoch 2/20\n",
      "30240/30240 [==============================] - 8s 273us/sample - loss: 0.0765 - acc: 0.9768 - val_loss: 0.0741 - val_acc: 0.9784\n",
      "Epoch 3/20\n",
      "30240/30240 [==============================] - 8s 271us/sample - loss: 0.0537 - acc: 0.9835 - val_loss: 0.0645 - val_acc: 0.9812\n",
      "Epoch 4/20\n",
      "30240/30240 [==============================] - 8s 274us/sample - loss: 0.0451 - acc: 0.9855 - val_loss: 0.0678 - val_acc: 0.9799\n",
      "Epoch 5/20\n",
      "30240/30240 [==============================] - 8s 276us/sample - loss: 0.0359 - acc: 0.9885 - val_loss: 0.0605 - val_acc: 0.9839\n",
      "Epoch 6/20\n",
      "30240/30240 [==============================] - 9s 294us/sample - loss: 0.0319 - acc: 0.9901 - val_loss: 0.0751 - val_acc: 0.9792\n",
      "Epoch 7/20\n",
      "30240/30240 [==============================] - 8s 273us/sample - loss: 0.0235 - acc: 0.9923 - val_loss: 0.0588 - val_acc: 0.9828\n",
      "Epoch 8/20\n",
      "30240/30240 [==============================] - 8s 272us/sample - loss: 0.0224 - acc: 0.9926 - val_loss: 0.0734 - val_acc: 0.9811\n",
      "Epoch 9/20\n",
      "30240/30240 [==============================] - 8s 273us/sample - loss: 0.0170 - acc: 0.9945 - val_loss: 0.0529 - val_acc: 0.9866\n",
      "Epoch 10/20\n",
      "30240/30240 [==============================] - 8s 275us/sample - loss: 0.0166 - acc: 0.9944 - val_loss: 0.0631 - val_acc: 0.9843\n",
      "Epoch 11/20\n",
      "30240/30240 [==============================] - 8s 272us/sample - loss: 0.0131 - acc: 0.9957 - val_loss: 0.0823 - val_acc: 0.9807\n",
      "Epoch 12/20\n",
      "30240/30240 [==============================] - 8s 274us/sample - loss: 0.0144 - acc: 0.9952 - val_loss: 0.0753 - val_acc: 0.9824\n",
      "Epoch 13/20\n",
      "30240/30240 [==============================] - 8s 272us/sample - loss: 0.0107 - acc: 0.9967 - val_loss: 0.0630 - val_acc: 0.9858\n",
      "Epoch 14/20\n",
      "30240/30240 [==============================] - 8s 274us/sample - loss: 0.0109 - acc: 0.9969 - val_loss: 0.0843 - val_acc: 0.9813\n",
      "Epoch 15/20\n",
      "30240/30240 [==============================] - 8s 272us/sample - loss: 0.0111 - acc: 0.9965 - val_loss: 0.0652 - val_acc: 0.9837\n",
      "Epoch 16/20\n",
      "30240/30240 [==============================] - 8s 273us/sample - loss: 0.0112 - acc: 0.9962 - val_loss: 0.0634 - val_acc: 0.9868\n",
      "Epoch 17/20\n",
      "30240/30240 [==============================] - 8s 275us/sample - loss: 0.0083 - acc: 0.9975 - val_loss: 0.0672 - val_acc: 0.9837\n",
      "Epoch 18/20\n",
      "30240/30240 [==============================] - 8s 272us/sample - loss: 0.0085 - acc: 0.9975 - val_loss: 0.0604 - val_acc: 0.9853\n",
      "Epoch 19/20\n",
      "30240/30240 [==============================] - 8s 272us/sample - loss: 0.0054 - acc: 0.9982 - val_loss: 0.0590 - val_acc: 0.9866\n",
      "Epoch 20/20\n",
      "30240/30240 [==============================] - 8s 270us/sample - loss: 0.0063 - acc: 0.9983 - val_loss: 0.0947 - val_acc: 0.9825\n"
     ]
    },
    {
     "data": {
      "text/plain": [
       "<tensorflow.python.keras.callbacks.History at 0x7ffabf49e6a0>"
      ]
     },
     "execution_count": 14,
     "metadata": {},
     "output_type": "execute_result"
    }
   ],
   "source": [
    "from tensorflow.keras.callbacks import EarlyStopping,ModelCheckpoint\n",
    "es = EarlyStopping(monitor='accuracy', mode='min', verbose=1, patience=5,baseline=0.99)\n",
    "\n",
    "model.fit(X_train,Y_train, epochs=20, callbacks=[es], validation_data = (X_test_test,Y_test))"
   ]
  },
  {
   "cell_type": "markdown",
   "metadata": {},
   "source": [
    "its time to evaluate our model"
   ]
  },
  {
   "cell_type": "code",
   "execution_count": 15,
   "metadata": {},
   "outputs": [
    {
     "name": "stdout",
     "output_type": "stream",
     "text": [
      "7560/7560 [==============================] - 1s 95us/sample - loss: 0.0947 - acc: 0.9825\n"
     ]
    },
    {
     "data": {
      "text/plain": [
       "[0.09470732577938949, 0.98253965]"
      ]
     },
     "execution_count": 15,
     "metadata": {},
     "output_type": "execute_result"
    }
   ],
   "source": [
    "model.evaluate(X_test_test,Y_test)"
   ]
  },
  {
   "cell_type": "markdown",
   "metadata": {},
   "source": [
    "we are with 98% accuracy goood . but it is always better to avoid overfitting problem. The idea is to alter the training data with small transformations to reproduce the variations occuring when someone is writing a digit.this we generally call as Data augmentation . lets do ..."
   ]
  },
  {
   "cell_type": "code",
   "execution_count": 16,
   "metadata": {},
   "outputs": [],
   "source": [
    "\n",
    "datagen = ImageDataGenerator(\n",
    "        featurewise_center=False,  # set input mean to 0 over the dataset\n",
    "        samplewise_center=False,  # set each sample mean to 0\n",
    "        featurewise_std_normalization=False,  # divide inputs by std of the dataset\n",
    "        samplewise_std_normalization=False,  # divide each input by its std\n",
    "        zca_whitening=False,  # apply ZCA whitening\n",
    "        rotation_range=10,  # randomly rotate images in the range (degrees, 0 to 180)\n",
    "        zoom_range = 0.1, # Randomly zoom image \n",
    "        width_shift_range=0.1,  # randomly shift images horizontally (fraction of total width)\n",
    "        height_shift_range=0.1,  # randomly shift images vertically (fraction of total height)\n",
    "        horizontal_flip=False,  # randomly flip images\n",
    "        vertical_flip=False)  # randomly flip images\n",
    "\n",
    "\n",
    "datagen.fit(X_train)"
   ]
  },
  {
   "cell_type": "markdown",
   "metadata": {},
   "source": [
    "now lets do the fitting process again i \n",
    "think we should end up with good accracy this time "
   ]
  },
  {
   "cell_type": "code",
   "execution_count": 17,
   "metadata": {},
   "outputs": [
    {
     "name": "stdout",
     "output_type": "stream",
     "text": [
      "Epoch 1/30\n",
      "945/945 [==============================] - 14s 15ms/step - loss: 0.1498 - acc: 0.9566 - val_loss: 0.0666 - val_acc: 0.9813\n",
      "Epoch 2/30\n",
      "945/945 [==============================] - 14s 15ms/step - loss: 0.0879 - acc: 0.9724 - val_loss: 0.0664 - val_acc: 0.9790\n",
      "Epoch 3/30\n",
      "945/945 [==============================] - 14s 15ms/step - loss: 0.0802 - acc: 0.9745 - val_loss: 0.0551 - val_acc: 0.9827\n",
      "Epoch 4/30\n",
      "945/945 [==============================] - 14s 15ms/step - loss: 0.0689 - acc: 0.9777 - val_loss: 0.0522 - val_acc: 0.9851\n",
      "Epoch 5/30\n",
      "945/945 [==============================] - 14s 15ms/step - loss: 0.0667 - acc: 0.9793 - val_loss: 0.0668 - val_acc: 0.9786\n",
      "Epoch 6/30\n",
      "945/945 [==============================] - 14s 15ms/step - loss: 0.0633 - acc: 0.9788 - val_loss: 0.0437 - val_acc: 0.9870\n",
      "Epoch 7/30\n",
      "945/945 [==============================] - 14s 15ms/step - loss: 0.0593 - acc: 0.9812 - val_loss: 0.0502 - val_acc: 0.9849\n",
      "Epoch 8/30\n",
      "945/945 [==============================] - 14s 15ms/step - loss: 0.0559 - acc: 0.9820 - val_loss: 0.0513 - val_acc: 0.9849\n",
      "Epoch 9/30\n",
      "945/945 [==============================] - 14s 15ms/step - loss: 0.0557 - acc: 0.9817 - val_loss: 0.0470 - val_acc: 0.9858\n",
      "Epoch 10/30\n",
      "945/945 [==============================] - 14s 14ms/step - loss: 0.0570 - acc: 0.9824 - val_loss: 0.0489 - val_acc: 0.9852\n",
      "Epoch 11/30\n",
      "945/945 [==============================] - 14s 15ms/step - loss: 0.0524 - acc: 0.9830 - val_loss: 0.0527 - val_acc: 0.9858\n",
      "Epoch 12/30\n",
      "945/945 [==============================] - 14s 15ms/step - loss: 0.0480 - acc: 0.9845 - val_loss: 0.0410 - val_acc: 0.9868\n",
      "Epoch 13/30\n",
      "945/945 [==============================] - 15s 16ms/step - loss: 0.0465 - acc: 0.9851 - val_loss: 0.0479 - val_acc: 0.9858\n",
      "Epoch 14/30\n",
      "945/945 [==============================] - 14s 15ms/step - loss: 0.0468 - acc: 0.9851 - val_loss: 0.0473 - val_acc: 0.9853\n",
      "Epoch 15/30\n",
      "945/945 [==============================] - 14s 15ms/step - loss: 0.0451 - acc: 0.9849 - val_loss: 0.0464 - val_acc: 0.9872\n",
      "Epoch 16/30\n",
      "945/945 [==============================] - 14s 14ms/step - loss: 0.0471 - acc: 0.9845 - val_loss: 0.0530 - val_acc: 0.9866\n",
      "Epoch 17/30\n",
      "945/945 [==============================] - 14s 14ms/step - loss: 0.0436 - acc: 0.9849 - val_loss: 0.0546 - val_acc: 0.9849\n",
      "Epoch 18/30\n",
      "945/945 [==============================] - 14s 14ms/step - loss: 0.0415 - acc: 0.9861 - val_loss: 0.0482 - val_acc: 0.9874\n",
      "Epoch 19/30\n",
      "945/945 [==============================] - 14s 14ms/step - loss: 0.0407 - acc: 0.9867 - val_loss: 0.0485 - val_acc: 0.9860\n",
      "Epoch 20/30\n",
      "945/945 [==============================] - 14s 14ms/step - loss: 0.0389 - acc: 0.9870 - val_loss: 0.0476 - val_acc: 0.9874\n",
      "Epoch 21/30\n",
      "945/945 [==============================] - 14s 14ms/step - loss: 0.0399 - acc: 0.9870 - val_loss: 0.0514 - val_acc: 0.9854\n",
      "Epoch 22/30\n",
      "945/945 [==============================] - 13s 14ms/step - loss: 0.0403 - acc: 0.9875 - val_loss: 0.0493 - val_acc: 0.9870\n",
      "Epoch 23/30\n",
      "945/945 [==============================] - 13s 14ms/step - loss: 0.0380 - acc: 0.9873 - val_loss: 0.0528 - val_acc: 0.9854\n",
      "Epoch 24/30\n",
      "945/945 [==============================] - 13s 14ms/step - loss: 0.0363 - acc: 0.9879 - val_loss: 0.0532 - val_acc: 0.9866\n",
      "Epoch 25/30\n",
      "945/945 [==============================] - 14s 14ms/step - loss: 0.0372 - acc: 0.9883 - val_loss: 0.0468 - val_acc: 0.9877\n",
      "Epoch 26/30\n",
      "945/945 [==============================] - 14s 14ms/step - loss: 0.0355 - acc: 0.9883 - val_loss: 0.0528 - val_acc: 0.9853\n",
      "Epoch 27/30\n",
      "945/945 [==============================] - 14s 14ms/step - loss: 0.0360 - acc: 0.9886 - val_loss: 0.0591 - val_acc: 0.9829\n",
      "Epoch 28/30\n",
      "945/945 [==============================] - 14s 14ms/step - loss: 0.0350 - acc: 0.9882 - val_loss: 0.0493 - val_acc: 0.9861\n",
      "Epoch 29/30\n",
      "945/945 [==============================] - 14s 15ms/step - loss: 0.0354 - acc: 0.9887 - val_loss: 0.0502 - val_acc: 0.9857\n",
      "Epoch 30/30\n",
      "945/945 [==============================] - 14s 14ms/step - loss: 0.0351 - acc: 0.9883 - val_loss: 0.0453 - val_acc: 0.9878\n"
     ]
    }
   ],
   "source": [
    "checkpoint = ModelCheckpoint('best_weigths.h5', monitor='val_loss', verbose=0, save_best_only=True, mode='auto', period=1)\n",
    "\n",
    "history = model.fit_generator(datagen.flow(X_train,Y_train),\n",
    "                              epochs = 30, validation_data = (X_test_test,Y_test),\n",
    "                              verbose = 1, callbacks=[es,checkpoint])"
   ]
  },
  {
   "cell_type": "code",
   "execution_count": 18,
   "metadata": {},
   "outputs": [
    {
     "name": "stdout",
     "output_type": "stream",
     "text": [
      "(28000, 28, 28, 1)\n",
      "[0]\n",
      "[9]\n",
      "[0]\n",
      "[3]\n",
      "[7]\n",
      "[0]\n",
      "[3]\n",
      "[0]\n",
      "[3]\n",
      "[5]\n",
      "[7]\n",
      "[4]\n",
      "[0]\n",
      "[4]\n",
      "[3]\n",
      "[3]\n",
      "[1]\n",
      "[9]\n",
      "[0]\n"
     ]
    },
    {
     "data": {
      "image/png": "[encoded data removed]",
      "text/plain": [
       "<Figure size 720x720 with 19 Axes>"
      ]
     },
     "metadata": {
      "needs_background": "light"
     },
     "output_type": "display_data"
    }
   ],
   "source": [
    "X_test_np = np.array(test)\n",
    "\n",
    "print(X_test_np.shape)\n",
    "\n",
    "plt.figure( figsize = (10,10))\n",
    "for i in range(1,20):\n",
    "    toBePredicted = X_test_np[i].reshape(-1,28,28,1)\n",
    "    result2 = model.predict(toBePredicted)\n",
    "    print(np.argmax(result2,axis = 1))\n",
    "    \n",
    "    plt.subplot(10,4,i)\n",
    "    plt.imshow(X_test_np[i].reshape([28,28]))"
   ]
  },
  {
   "cell_type": "markdown",
   "metadata": {},
   "source": [
    "after Data Augmentation its making good prediction ....now our model is well trained  lets see how accracy vary with no.of epochs"
   ]
  },
  {
   "cell_type": "code",
   "execution_count": 19,
   "metadata": {},
   "outputs": [
    {
     "name": "stdout",
     "output_type": "stream",
     "text": [
      "0        2\n",
      "1        0\n",
      "2        9\n",
      "3        0\n",
      "4        3\n",
      "        ..\n",
      "27995    9\n",
      "27996    7\n",
      "27997    3\n",
      "27998    9\n",
      "27999    2\n",
      "Name: Label, Length: 28000, dtype: int64\n"
     ]
    }
   ],
   "source": [
    "# predict results\n",
    "results = model.predict(X_test_np)\n",
    "# select the indix with the maximum probability\n",
    "results = np.argmax(results,axis = 1)\n",
    "results = pd.Series(results,name=\"Label\")\n",
    "submission = pd.concat([pd.Series(range(1,28001),name = \"ImageId\"),results],axis = 1)\n",
    "print(results)\n",
    "submission.to_csv(\"cnn_mnist_datagen.csv\",index=False)"
   ]
  },
  {
   "cell_type": "code",
   "execution_count": 20,
   "metadata": {},
   "outputs": [
    {
     "data": {
      "text/plain": [
       "<matplotlib.legend.Legend at 0x7ffad0edc438>"
      ]
     },
     "execution_count": 20,
     "metadata": {},
     "output_type": "execute_result"
    },
    {
     "data": {
      "image/png": "[encoded data removed]",
      "text/plain": [
       "<Figure size 432x288 with 1 Axes>"
      ]
     },
     "metadata": {
      "needs_background": "light"
     },
     "output_type": "display_data"
    }
   ],
   "source": [
    "acc = history.history['acc']\n",
    "epochs_s = range(0,30)\n",
    "\n",
    "plt.plot(epochs_s, acc , label='accuracy')\n",
    "plt.xlabel('epochs')\n",
    "plt.ylabel('accuracy')\n",
    "\n",
    "plt.title('accuracy vs epochs')\n",
    "plt.legend()"
   ]
  },
  {
   "cell_type": "markdown",
   "metadata": {},
   "source": [
    "**you just liked it place upvotes that would be very much appreciated - That will keep me motivated ..**"
   ]
  },
  {
   "cell_type": "code",
   "execution_count": null,
   "metadata": {},
   "outputs": [],
   "source": []
  }
 ],
 "metadata": {
  "kernelspec": {
   "display_name": "Python 3",
   "language": "python",
   "name": "python3"
  },
  "language_info": {
   "codemirror_mode": {
    "name": "ipython",
    "version": 3
   },
   "file_extension": ".py",
   "mimetype": "text/x-python",
   "name": "python",
   "nbconvert_exporter": "python",
   "pygments_lexer": "ipython3",
   "version": "3.7.3"
  }
 },
 "nbformat": 4,
 "nbformat_minor": 1
}
